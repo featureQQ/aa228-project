{
 "cells": [
  {
   "cell_type": "code",
   "execution_count": 1,
   "metadata": {
    "collapsed": true
   },
   "outputs": [],
   "source": [
    "import numpy as np\n",
    "import itertools\n",
    "%matplotlib inline\n",
    "import matplotlib.pyplot as plt"
   ]
  },
  {
   "cell_type": "code",
   "execution_count": 8,
   "metadata": {
    "collapsed": true
   },
   "outputs": [],
   "source": [
    "class UAV:\n",
    "    \n",
    "    def __init__(self):\n",
    "        \n",
    "        self.start_loc = np.random.random_integers(low=0, high=GRID_LENGTH-1, size=2)\n",
    "        self.end_loc = np.random.random_integers(low=0, high=GRID_LENGTH-1, size=2)\n",
    "        self.curr_loc = self.start_loc\n",
    "        self.status = 0 # 0 is flying, 1 is done, 2 is crashed\n",
    "        \n",
    "    def fly_step(self):\n",
    "        \n",
    "        delta = self.end_loc - self.curr_loc\n",
    "        step = np.array([np.sign(delta[0]), np.sign(delta[1])])\n",
    "        self.curr_loc += step\n",
    "\n",
    "        if np.array_equal(self.curr_loc, self.end_loc): self.status = 1"
   ]
  },
  {
   "cell_type": "code",
   "execution_count": 9,
   "metadata": {
    "collapsed": true
   },
   "outputs": [],
   "source": [
    "GRID_LENGTH = 100\n",
    "NUM_DIMS = 2\n",
    "NUM_UAVS = list(range(10, 100, 10))\n",
    "MAX_TIMESTEPS = 100\n",
    "NUM_ITERS = 10"
   ]
  },
  {
   "cell_type": "code",
   "execution_count": 12,
   "metadata": {
    "collapsed": true,
    "scrolled": false
   },
   "outputs": [],
   "source": [
    "def experiment(num_uavs):\n",
    "    \n",
    "    crashes = []\n",
    "    for _ in range(NUM_ITERS):\n",
    "        \n",
    "        GRID = list(itertools.product(range(GRID_LENGTH), range(GRID_LENGTH)))\n",
    "        WORLD = {(x,y):set([]) for x, y in GRID}\n",
    "        \n",
    "        crash = set([])\n",
    "        \n",
    "        uavs = {}\n",
    "        for idx in range(num_uavs):\n",
    "            uav = UAV()\n",
    "            WORLD[tuple(uav.curr_loc)].add(idx)\n",
    "            uavs[idx] = uav\n",
    "\n",
    "        for timestep in range(MAX_TIMESTEPS):\n",
    "\n",
    "        #     print(\"\\nTimestep: \", timestep)\n",
    "            remaining = len([uav for idx, uav in uavs.items() if uav])\n",
    "            if remaining == 0: break\n",
    "        #     print(\"UAVS remaining: \", remaining)\n",
    "\n",
    "            for idx, uav in uavs.items():\n",
    "                if not uav: continue\n",
    "        #         print(\"Before UAV: \", idx, \"; Loc: \", uav.curr_loc, \"; WORLD: \", WORLD[tuple(uav.curr_loc)])\n",
    "                if idx in WORLD[tuple(uav.curr_loc)]: WORLD[tuple(uav.curr_loc)].remove(idx)\n",
    "                uav.fly_step()\n",
    "\n",
    "            for idx, uav in uavs.items():\n",
    "                if not uav: continue\n",
    "                WORLD[tuple(uav.curr_loc)].add(idx)\n",
    "        #         print(\"After UAV: \", idx, \"; Loc: \", uav.curr_loc, \"; WORLD: \", WORLD[tuple(uav.curr_loc)], \"; Status: \", uav.status)\n",
    "\n",
    "            for loc in GRID:\n",
    "                if len(WORLD[loc]) > 1:\n",
    "                    loc_uavs = WORLD[loc]\n",
    "                    for idx in loc_uavs:\n",
    "                        if not uavs[idx]: continue # necessary?\n",
    "                        uavs[idx] = None\n",
    "                        crash.add(timestep)\n",
    "\n",
    "            for idx, uav in uavs.items():\n",
    "                if not uav: continue\n",
    "                if uav.status == 1: \n",
    "                    uavs[idx] = None\n",
    "        crashes.append(len(crash))\n",
    "    print(num_uavs, crashes)\n",
    "    return np.mean(crashes), np.std(crashes)"
   ]
  },
  {
   "cell_type": "code",
   "execution_count": 14,
   "metadata": {},
   "outputs": [
    {
     "name": "stderr",
     "output_type": "stream",
     "text": [
      "/Users/prasadkawthekar/anaconda3/lib/python3.6/site-packages/ipykernel_launcher.py:5: DeprecationWarning: This function is deprecated. Please call randint(0, 99 + 1) instead\n",
      "  \"\"\"\n",
      "/Users/prasadkawthekar/anaconda3/lib/python3.6/site-packages/ipykernel_launcher.py:6: DeprecationWarning: This function is deprecated. Please call randint(0, 99 + 1) instead\n",
      "  \n"
     ]
    },
    {
     "name": "stdout",
     "output_type": "stream",
     "text": [
      "10 [0, 0, 0, 0, 0, 0, 0, 1, 1, 0]\n",
      "20 [1, 1, 2, 1, 1, 1, 1, 0, 0, 0]\n",
      "30 [4, 1, 5, 4, 2, 3, 1, 3, 1, 3]\n",
      "40 [4, 3, 8, 4, 4, 4, 4, 4, 2, 4]\n",
      "50 [2, 7, 8, 5, 5, 7, 10, 6, 4, 7]\n",
      "60 [7, 9, 7, 9, 11, 7, 10, 7, 9, 8]\n",
      "70 [15, 13, 12, 10, 10, 14, 13, 12, 13, 11]\n",
      "80 [15, 15, 14, 17, 11, 12, 19, 9, 17, 13]\n",
      "90 [20, 20, 18, 12, 15, 16, 15, 19, 13, 16]\n"
     ]
    }
   ],
   "source": [
    "crashes = []\n",
    "for num_uavs in NUM_UAVS:\n",
    "    crashes.append(experiment(num_uavs))"
   ]
  },
  {
   "cell_type": "code",
   "execution_count": 15,
   "metadata": {},
   "outputs": [
    {
     "data": {
      "text/plain": [
       "<matplotlib.text.Text at 0x1079d9780>"
      ]
     },
     "execution_count": 15,
     "metadata": {},
     "output_type": "execute_result"
    },
    {
     "data": {
      "image/png": "[encoded data removed]",
      "text/plain": [
       "<matplotlib.figure.Figure at 0x1089fe2b0>"
      ]
     },
     "metadata": {},
     "output_type": "display_data"
    }
   ],
   "source": [
    "plt.plot(NUM_UAVS, [crash[0] for crash in crashes])\n",
    "plt.xlabel('NUM UAVs')\n",
    "plt.ylabel('Crashes')"
   ]
  },
  {
   "cell_type": "code",
   "execution_count": 16,
   "metadata": {},
   "outputs": [
    {
     "data": {
      "text/plain": [
       "[(0.20000000000000001, 0.40000000000000008),\n",
       " (0.80000000000000004, 0.60000000000000009),\n",
       " (2.7000000000000002, 1.3453624047073709),\n",
       " (4.0999999999999996, 1.4456832294800961),\n",
       " (6.0999999999999996, 2.118962010041709),\n",
       " (8.4000000000000004, 1.3564659966250536),\n",
       " (12.300000000000001, 1.5524174696260025),\n",
       " (14.199999999999999, 2.8913664589601922),\n",
       " (16.399999999999999, 2.6532998322843202)]"
      ]
     },
     "execution_count": 16,
     "metadata": {},
     "output_type": "execute_result"
    }
   ],
   "source": [
    "crashes"
   ]
  },
  {
   "cell_type": "code",
   "execution_count": null,
   "metadata": {
    "collapsed": true
   },
   "outputs": [],
   "source": []
  }
 ],
 "metadata": {
  "kernelspec": {
   "display_name": "Python 3",
   "language": "python",
   "name": "python3"
  },
  "language_info": {
   "codemirror_mode": {
    "name": "ipython",
    "version": 3
   },
   "file_extension": ".py",
   "mimetype": "text/x-python",
   "name": "python",
   "nbconvert_exporter": "python",
   "pygments_lexer": "ipython3",
   "version": "3.6.2"
  }
 },
 "nbformat": 4,
 "nbformat_minor": 2
}
